{
 "cells": [
  {
   "cell_type": "code",
   "execution_count": 1,
   "id": "ea3c8f0f",
   "metadata": {},
   "outputs": [
    {
     "data": {
      "text/html": [
       "<div>\n",
       "<style scoped>\n",
       "    .dataframe tbody tr th:only-of-type {\n",
       "        vertical-align: middle;\n",
       "    }\n",
       "\n",
       "    .dataframe tbody tr th {\n",
       "        vertical-align: top;\n",
       "    }\n",
       "\n",
       "    .dataframe thead th {\n",
       "        text-align: right;\n",
       "    }\n",
       "</style>\n",
       "<table border=\"1\" class=\"dataframe\">\n",
       "  <thead>\n",
       "    <tr style=\"text-align: right;\">\n",
       "      <th></th>\n",
       "      <th>AverageFlow</th>\n",
       "      <th>Volume</th>\n",
       "      <th>Duration</th>\n",
       "      <th>Outlet</th>\n",
       "    </tr>\n",
       "  </thead>\n",
       "  <tbody>\n",
       "    <tr>\n",
       "      <th>0</th>\n",
       "      <td>25.562500</td>\n",
       "      <td>409</td>\n",
       "      <td>17</td>\n",
       "      <td>washroomBasin</td>\n",
       "    </tr>\n",
       "    <tr>\n",
       "      <th>1</th>\n",
       "      <td>52.833333</td>\n",
       "      <td>317</td>\n",
       "      <td>6</td>\n",
       "      <td>kitchenBasin</td>\n",
       "    </tr>\n",
       "    <tr>\n",
       "      <th>2</th>\n",
       "      <td>17.000000</td>\n",
       "      <td>102</td>\n",
       "      <td>6</td>\n",
       "      <td>washroomBasin</td>\n",
       "    </tr>\n",
       "    <tr>\n",
       "      <th>3</th>\n",
       "      <td>34.646341</td>\n",
       "      <td>2841</td>\n",
       "      <td>88</td>\n",
       "      <td>washroomBasin</td>\n",
       "    </tr>\n",
       "    <tr>\n",
       "      <th>4</th>\n",
       "      <td>69.166667</td>\n",
       "      <td>415</td>\n",
       "      <td>7</td>\n",
       "      <td>washroomBasin</td>\n",
       "    </tr>\n",
       "    <tr>\n",
       "      <th>...</th>\n",
       "      <td>...</td>\n",
       "      <td>...</td>\n",
       "      <td>...</td>\n",
       "      <td>...</td>\n",
       "    </tr>\n",
       "    <tr>\n",
       "      <th>4000</th>\n",
       "      <td>110.500000</td>\n",
       "      <td>1768</td>\n",
       "      <td>17</td>\n",
       "      <td>kitchenBasin</td>\n",
       "    </tr>\n",
       "    <tr>\n",
       "      <th>4001</th>\n",
       "      <td>33.810811</td>\n",
       "      <td>1251</td>\n",
       "      <td>39</td>\n",
       "      <td>washroomBasin</td>\n",
       "    </tr>\n",
       "    <tr>\n",
       "      <th>4002</th>\n",
       "      <td>14.944444</td>\n",
       "      <td>269</td>\n",
       "      <td>19</td>\n",
       "      <td>washroomBasin</td>\n",
       "    </tr>\n",
       "    <tr>\n",
       "      <th>4003</th>\n",
       "      <td>23.714286</td>\n",
       "      <td>166</td>\n",
       "      <td>7</td>\n",
       "      <td>washroomBasin</td>\n",
       "    </tr>\n",
       "    <tr>\n",
       "      <th>4004</th>\n",
       "      <td>34.400000</td>\n",
       "      <td>344</td>\n",
       "      <td>10</td>\n",
       "      <td>washroomBasin</td>\n",
       "    </tr>\n",
       "  </tbody>\n",
       "</table>\n",
       "<p>4005 rows × 4 columns</p>\n",
       "</div>"
      ],
      "text/plain": [
       "      AverageFlow  Volume  Duration         Outlet\n",
       "0       25.562500     409        17  washroomBasin\n",
       "1       52.833333     317         6   kitchenBasin\n",
       "2       17.000000     102         6  washroomBasin\n",
       "3       34.646341    2841        88  washroomBasin\n",
       "4       69.166667     415         7  washroomBasin\n",
       "...           ...     ...       ...            ...\n",
       "4000   110.500000    1768        17   kitchenBasin\n",
       "4001    33.810811    1251        39  washroomBasin\n",
       "4002    14.944444     269        19  washroomBasin\n",
       "4003    23.714286     166         7  washroomBasin\n",
       "4004    34.400000     344        10  washroomBasin\n",
       "\n",
       "[4005 rows x 4 columns]"
      ]
     },
     "execution_count": 1,
     "metadata": {},
     "output_type": "execute_result"
    }
   ],
   "source": [
    "import pandas as pd\n",
    "from sklearn.tree import DecisionTreeClassifier\n",
    "from sklearn.model_selection import train_test_split\n",
    "from sklearn.metrics import accuracy_score\n",
    "\n",
    "df = pd.read_csv('outletData/featureData/all_outlets_feature.csv', sep=' ')\n",
    "df = df.sample(frac=1).reset_index(drop=True)\n",
    "X = df.drop(columns=[\"Outlet\"])\n",
    "y = df[\"Outlet\"]\n",
    "X_train, X_test, y_train, y_test = train_test_split(X, y, test_size=0.2)\n",
    "df"
   ]
  },
  {
   "cell_type": "code",
   "execution_count": 14,
   "id": "56f1702c",
   "metadata": {},
   "outputs": [
    {
     "data": {
      "text/plain": [
       "DecisionTreeClassifier()"
      ]
     },
     "execution_count": 14,
     "metadata": {},
     "output_type": "execute_result"
    }
   ],
   "source": [
    "model = DecisionTreeClassifier()\n",
    "model.fit(X_train,y_train)"
   ]
  },
  {
   "cell_type": "code",
   "execution_count": 15,
   "id": "50725206",
   "metadata": {},
   "outputs": [
    {
     "data": {
      "text/plain": [
       "0.6279650436953808"
      ]
     },
     "execution_count": 15,
     "metadata": {},
     "output_type": "execute_result"
    }
   ],
   "source": [
    "predictions = model.predict(X_test)\n",
    "accuracy_score(y_test, predictions)"
   ]
  },
  {
   "cell_type": "code",
   "execution_count": 46,
   "id": "3daa23be",
   "metadata": {},
   "outputs": [],
   "source": [
    "from sklearn import svm\n",
    "from sklearn.metrics import classification_report\n",
    "\n",
    "svm_model = svm.SVC(kernel='poly', gamma=1, C=1, verbose=True, max_iter=1)\n",
    "\n",
    "# svm_predictions = svm_model.predict(X_test)\n",
    "# print(classification_report(y_test, svm_predictions))"
   ]
  },
  {
   "cell_type": "code",
   "execution_count": 47,
   "id": "65f60dd2",
   "metadata": {},
   "outputs": [
    {
     "name": "stdout",
     "output_type": "stream",
     "text": [
      "[LibSVM]"
     ]
    },
    {
     "name": "stderr",
     "output_type": "stream",
     "text": [
      "C:\\Users\\User\\anaconda3\\envs\\waterAuditProject\\lib\\site-packages\\sklearn\\svm\\_base.py:255: ConvergenceWarning: Solver terminated early (max_iter=1).  Consider pre-processing your data with StandardScaler or MinMaxScaler.\n",
      "  warnings.warn('Solver terminated early (max_iter=%i).'\n"
     ]
    },
    {
     "data": {
      "text/plain": [
       "SVC(C=1, gamma=1, kernel='poly', max_iter=1, verbose=True)"
      ]
     },
     "execution_count": 47,
     "metadata": {},
     "output_type": "execute_result"
    }
   ],
   "source": [
    "svm_model.fit(X_train,y_train)"
   ]
  },
  {
   "cell_type": "code",
   "execution_count": 45,
   "id": "406ec878",
   "metadata": {},
   "outputs": [
    {
     "data": {
      "text/plain": [
       "0.4631710362047441"
      ]
     },
     "execution_count": 45,
     "metadata": {},
     "output_type": "execute_result"
    }
   ],
   "source": [
    "predictions = svm_model.predict(X_test)\n",
    "accuracy_score(y_test, predictions)"
   ]
  },
  {
   "cell_type": "code",
   "execution_count": null,
   "id": "663b8282",
   "metadata": {},
   "outputs": [],
   "source": []
  }
 ],
 "metadata": {
  "kernelspec": {
   "display_name": "Python 3 (ipykernel)",
   "language": "python",
   "name": "python3"
  },
  "language_info": {
   "codemirror_mode": {
    "name": "ipython",
    "version": 3
   },
   "file_extension": ".py",
   "mimetype": "text/x-python",
   "name": "python",
   "nbconvert_exporter": "python",
   "pygments_lexer": "ipython3",
   "version": "3.8.0"
  }
 },
 "nbformat": 4,
 "nbformat_minor": 5
}
